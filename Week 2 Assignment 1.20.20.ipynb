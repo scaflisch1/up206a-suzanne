{
 "cells": [
  {
   "cell_type": "markdown",
   "metadata": {},
   "source": [
    "# Individual Assignment: data exploration"
   ]
  },
  {
   "cell_type": "markdown",
   "metadata": {},
   "source": [
    "In this notebook I am exploring the 2012 LAPD Division data, which I downloaded from the L.A. Times \"Mapping Boundaries\" page. Using the LAPD Division data, I will run a series of commands using Python in order to visualize the data from this data set in new ways."
   ]
  },
  {
   "cell_type": "markdown",
   "metadata": {},
   "source": [
    "Importing geopandas:"
   ]
  },
  {
   "cell_type": "code",
   "execution_count": 1,
   "metadata": {},
   "outputs": [],
   "source": [
    "import geopandas as gpd"
   ]
  },
  {
   "cell_type": "markdown",
   "metadata": {},
   "source": [
    "Importing the data set retrieved from the LA Times \"Mapping Boundaries\" page:"
   ]
  },
  {
   "cell_type": "code",
   "execution_count": 3,
   "metadata": {},
   "outputs": [],
   "source": [
    "LAPD = gpd.read_file('lapd division.shp')"
   ]
  },
  {
   "cell_type": "markdown",
   "metadata": {},
   "source": [
    "Running the info command:"
   ]
  },
  {
   "cell_type": "code",
   "execution_count": 4,
   "metadata": {},
   "outputs": [
    {
     "name": "stdout",
     "output_type": "stream",
     "text": [
      "<class 'geopandas.geodataframe.GeoDataFrame'>\n",
      "RangeIndex: 21 entries, 0 to 20\n",
      "Data columns (total 13 columns):\n",
      " #   Column      Non-Null Count  Dtype   \n",
      "---  ------      --------------  -----   \n",
      " 0   slug        21 non-null     object  \n",
      " 1   set         21 non-null     object  \n",
      " 2   kind        21 non-null     object  \n",
      " 3   external_i  21 non-null     object  \n",
      " 4   name        21 non-null     object  \n",
      " 5   display_na  21 non-null     object  \n",
      " 6   name_1      0 non-null      object  \n",
      " 7   url         21 non-null     object  \n",
      " 8   number      21 non-null     object  \n",
      " 9   phone_numb  21 non-null     object  \n",
      " 10  address     21 non-null     object  \n",
      " 11  square_mil  21 non-null     object  \n",
      " 12  geometry    21 non-null     geometry\n",
      "dtypes: geometry(1), object(12)\n",
      "memory usage: 2.3+ KB\n"
     ]
    }
   ],
   "source": [
    "LAPD.info()"
   ]
  },
  {
   "cell_type": "markdown",
   "metadata": {},
   "source": [
    "The info command shows me detailed information about the imported data set, including the column names and their order in the data file, and the type of data in each column."
   ]
  },
  {
   "cell_type": "markdown",
   "metadata": {},
   "source": [
    "Running the shape command:"
   ]
  },
  {
   "cell_type": "code",
   "execution_count": 20,
   "metadata": {},
   "outputs": [
    {
     "data": {
      "text/plain": [
       "(21, 13)"
      ]
     },
     "execution_count": 20,
     "metadata": {},
     "output_type": "execute_result"
    }
   ],
   "source": [
    "LAPD.shape"
   ]
  },
  {
   "cell_type": "markdown",
   "metadata": {},
   "source": [
    "The shape command shows the number of rows and columns in the data set."
   ]
  },
  {
   "cell_type": "markdown",
   "metadata": {},
   "source": [
    "Running the head command:"
   ]
  },
  {
   "cell_type": "code",
   "execution_count": 7,
   "metadata": {},
   "outputs": [
    {
     "data": {
      "text/html": [
       "<div>\n",
       "<style scoped>\n",
       "    .dataframe tbody tr th:only-of-type {\n",
       "        vertical-align: middle;\n",
       "    }\n",
       "\n",
       "    .dataframe tbody tr th {\n",
       "        vertical-align: top;\n",
       "    }\n",
       "\n",
       "    .dataframe thead th {\n",
       "        text-align: right;\n",
       "    }\n",
       "</style>\n",
       "<table border=\"1\" class=\"dataframe\">\n",
       "  <thead>\n",
       "    <tr style=\"text-align: right;\">\n",
       "      <th></th>\n",
       "      <th>slug</th>\n",
       "      <th>set</th>\n",
       "      <th>kind</th>\n",
       "      <th>external_i</th>\n",
       "      <th>name</th>\n",
       "      <th>display_na</th>\n",
       "      <th>name_1</th>\n",
       "      <th>url</th>\n",
       "      <th>number</th>\n",
       "      <th>phone_numb</th>\n",
       "      <th>address</th>\n",
       "      <th>square_mil</th>\n",
       "      <th>geometry</th>\n",
       "    </tr>\n",
       "  </thead>\n",
       "  <tbody>\n",
       "    <tr>\n",
       "      <th>0</th>\n",
       "      <td>77th-street-lapd-division</td>\n",
       "      <td>LAPD Divisions</td>\n",
       "      <td>LAPD Division</td>\n",
       "      <td>12</td>\n",
       "      <td>77th Street</td>\n",
       "      <td>77th Street LAPD Division</td>\n",
       "      <td>None</td>\n",
       "      <td>http://www.lapdonline.org/77th_street_communit...</td>\n",
       "      <td>12</td>\n",
       "      <td>213-485-4164</td>\n",
       "      <td>7600 S. Broadway</td>\n",
       "      <td>11.3334694611</td>\n",
       "      <td>POLYGON ((-118.31489 34.00372, -118.28106 34.0...</td>\n",
       "    </tr>\n",
       "    <tr>\n",
       "      <th>1</th>\n",
       "      <td>central-lapd-division</td>\n",
       "      <td>LAPD Divisions</td>\n",
       "      <td>LAPD Division</td>\n",
       "      <td>1</td>\n",
       "      <td>Central</td>\n",
       "      <td>Central LAPD Division</td>\n",
       "      <td>None</td>\n",
       "      <td>http://www.lapdonline.org/central_community_po...</td>\n",
       "      <td>1</td>\n",
       "      <td>213-485-3294</td>\n",
       "      <td>251 E. 6th St.</td>\n",
       "      <td>4.9051505769</td>\n",
       "      <td>POLYGON ((-118.22438 34.06851, -118.22447 34.0...</td>\n",
       "    </tr>\n",
       "    <tr>\n",
       "      <th>2</th>\n",
       "      <td>devonshire-lapd-division</td>\n",
       "      <td>LAPD Divisions</td>\n",
       "      <td>LAPD Division</td>\n",
       "      <td>17</td>\n",
       "      <td>Devonshire</td>\n",
       "      <td>Devonshire LAPD Division</td>\n",
       "      <td>None</td>\n",
       "      <td>http://www.lapdonline.org/devonshire_community...</td>\n",
       "      <td>17</td>\n",
       "      <td>818-832-0633</td>\n",
       "      <td>10250 Etiwanda Ave.</td>\n",
       "      <td>48.310389692</td>\n",
       "      <td>POLYGON ((-118.48964 34.31514, -118.48637 34.3...</td>\n",
       "    </tr>\n",
       "    <tr>\n",
       "      <th>3</th>\n",
       "      <td>foothill-lapd-division</td>\n",
       "      <td>LAPD Divisions</td>\n",
       "      <td>LAPD Division</td>\n",
       "      <td>16</td>\n",
       "      <td>Foothill</td>\n",
       "      <td>Foothill LAPD Division</td>\n",
       "      <td>None</td>\n",
       "      <td>http://www.lapdonline.org/foothill_community_p...</td>\n",
       "      <td>16</td>\n",
       "      <td>818-756-8861</td>\n",
       "      <td>12760 Osborne St.</td>\n",
       "      <td>46.5372672192</td>\n",
       "      <td>POLYGON ((-118.38291 34.29425, -118.38294 34.2...</td>\n",
       "    </tr>\n",
       "    <tr>\n",
       "      <th>4</th>\n",
       "      <td>harbor-lapd-division</td>\n",
       "      <td>LAPD Divisions</td>\n",
       "      <td>LAPD Division</td>\n",
       "      <td>5</td>\n",
       "      <td>Harbor</td>\n",
       "      <td>Harbor LAPD Division</td>\n",
       "      <td>None</td>\n",
       "      <td>http://www.lapdonline.org/harbor_community_pol...</td>\n",
       "      <td>5</td>\n",
       "      <td>310-726-7700</td>\n",
       "      <td>2175 John S. Gibson Blvd.</td>\n",
       "      <td>32.0275914881</td>\n",
       "      <td>POLYGON ((-118.28151 33.86635, -118.28147 33.8...</td>\n",
       "    </tr>\n",
       "  </tbody>\n",
       "</table>\n",
       "</div>"
      ],
      "text/plain": [
       "                        slug             set           kind external_i  \\\n",
       "0  77th-street-lapd-division  LAPD Divisions  LAPD Division         12   \n",
       "1      central-lapd-division  LAPD Divisions  LAPD Division          1   \n",
       "2   devonshire-lapd-division  LAPD Divisions  LAPD Division         17   \n",
       "3     foothill-lapd-division  LAPD Divisions  LAPD Division         16   \n",
       "4       harbor-lapd-division  LAPD Divisions  LAPD Division          5   \n",
       "\n",
       "          name                 display_na name_1  \\\n",
       "0  77th Street  77th Street LAPD Division   None   \n",
       "1      Central      Central LAPD Division   None   \n",
       "2   Devonshire   Devonshire LAPD Division   None   \n",
       "3     Foothill     Foothill LAPD Division   None   \n",
       "4       Harbor       Harbor LAPD Division   None   \n",
       "\n",
       "                                                 url number    phone_numb  \\\n",
       "0  http://www.lapdonline.org/77th_street_communit...     12  213-485-4164   \n",
       "1  http://www.lapdonline.org/central_community_po...      1  213-485-3294   \n",
       "2  http://www.lapdonline.org/devonshire_community...     17  818-832-0633   \n",
       "3  http://www.lapdonline.org/foothill_community_p...     16  818-756-8861   \n",
       "4  http://www.lapdonline.org/harbor_community_pol...      5  310-726-7700   \n",
       "\n",
       "                     address     square_mil  \\\n",
       "0           7600 S. Broadway  11.3334694611   \n",
       "1             251 E. 6th St.   4.9051505769   \n",
       "2        10250 Etiwanda Ave.   48.310389692   \n",
       "3          12760 Osborne St.  46.5372672192   \n",
       "4  2175 John S. Gibson Blvd.  32.0275914881   \n",
       "\n",
       "                                            geometry  \n",
       "0  POLYGON ((-118.31489 34.00372, -118.28106 34.0...  \n",
       "1  POLYGON ((-118.22438 34.06851, -118.22447 34.0...  \n",
       "2  POLYGON ((-118.48964 34.31514, -118.48637 34.3...  \n",
       "3  POLYGON ((-118.38291 34.29425, -118.38294 34.2...  \n",
       "4  POLYGON ((-118.28151 33.86635, -118.28147 33.8...  "
      ]
     },
     "execution_count": 7,
     "metadata": {},
     "output_type": "execute_result"
    }
   ],
   "source": [
    "LAPD.head()"
   ]
  },
  {
   "cell_type": "markdown",
   "metadata": {},
   "source": [
    "The head command shows the first five rows of the data."
   ]
  },
  {
   "cell_type": "markdown",
   "metadata": {},
   "source": [
    "Running the plot command:"
   ]
  },
  {
   "cell_type": "code",
   "execution_count": 8,
   "metadata": {
    "scrolled": true
   },
   "outputs": [
    {
     "data": {
      "text/plain": [
       "<matplotlib.axes._subplots.AxesSubplot at 0x7f22adf657f0>"
      ]
     },
     "execution_count": 8,
     "metadata": {},
     "output_type": "execute_result"
    },
    {
     "data": {
      "image/png": "[encoded data removed]",
      "text/plain": [
       "<Figure size 432x288 with 1 Axes>"
      ]
     },
     "metadata": {
      "needs_background": "light"
     },
     "output_type": "display_data"
    }
   ],
   "source": [
    "LAPD.plot()"
   ]
  },
  {
   "cell_type": "markdown",
   "metadata": {},
   "source": [
    "The plot command plots the spatial coordinates of the data on a map"
   ]
  },
  {
   "cell_type": "markdown",
   "metadata": {},
   "source": [
    "Running the value_counts command for the column \"name\":"
   ]
  },
  {
   "cell_type": "code",
   "execution_count": 21,
   "metadata": {},
   "outputs": [
    {
     "data": {
      "text/plain": [
       "Central             1\n",
       "Newton              1\n",
       "77th Street         1\n",
       "Wilshire            1\n",
       "Mission             1\n",
       "Foothill            1\n",
       "North Hollywood     1\n",
       "Hollywood           1\n",
       "Rampart             1\n",
       "Devonshire          1\n",
       "West Valley         1\n",
       "Southwest           1\n",
       "Northeast           1\n",
       "West Los Angeles    1\n",
       "Pacific             1\n",
       "Southeast           1\n",
       "Hollenbeck          1\n",
       "Topanga             1\n",
       "Harbor              1\n",
       "Van Nuys            1\n",
       "Olympic             1\n",
       "Name: name, dtype: int64"
      ]
     },
     "execution_count": 21,
     "metadata": {},
     "output_type": "execute_result"
    }
   ],
   "source": [
    "LAPD['name'].value_counts()"
   ]
  },
  {
   "cell_type": "markdown",
   "metadata": {},
   "source": [
    "The value_counts command shows the data in the \"name\" column. In this case, there is one of every variable in the above list."
   ]
  },
  {
   "cell_type": "markdown",
   "metadata": {},
   "source": [
    "Running the to_list command:"
   ]
  },
  {
   "cell_type": "code",
   "execution_count": 22,
   "metadata": {},
   "outputs": [
    {
     "data": {
      "text/plain": [
       "['slug',\n",
       " 'set',\n",
       " 'kind',\n",
       " 'external_i',\n",
       " 'name',\n",
       " 'display_na',\n",
       " 'name_1',\n",
       " 'url',\n",
       " 'number',\n",
       " 'phone_numb',\n",
       " 'address',\n",
       " 'square_mil',\n",
       " 'geometry']"
      ]
     },
     "execution_count": 22,
     "metadata": {},
     "output_type": "execute_result"
    }
   ],
   "source": [
    "LAPD.columns.to_list()"
   ]
  },
  {
   "cell_type": "markdown",
   "metadata": {},
   "source": [
    "The to_list command shows all of the column headers in the data file."
   ]
  },
  {
   "cell_type": "markdown",
   "metadata": {},
   "source": [
    "Running a type command:"
   ]
  },
  {
   "cell_type": "code",
   "execution_count": 15,
   "metadata": {},
   "outputs": [
    {
     "data": {
      "text/plain": [
       "geopandas.geodataframe.GeoDataFrame"
      ]
     },
     "execution_count": 15,
     "metadata": {},
     "output_type": "execute_result"
    }
   ],
   "source": [
    "type(LAPD)"
   ]
  },
  {
   "cell_type": "markdown",
   "metadata": {},
   "source": [
    "The type command shows me the type of data set that I imported."
   ]
  },
  {
   "cell_type": "markdown",
   "metadata": {},
   "source": [
    "Running a query, in this case, for the observations that contain \"LAPD Division\" in the \"kind\" column:"
   ]
  },
  {
   "cell_type": "code",
   "execution_count": 18,
   "metadata": {},
   "outputs": [
    {
     "data": {
      "text/html": [
       "<div>\n",
       "<style scoped>\n",
       "    .dataframe tbody tr th:only-of-type {\n",
       "        vertical-align: middle;\n",
       "    }\n",
       "\n",
       "    .dataframe tbody tr th {\n",
       "        vertical-align: top;\n",
       "    }\n",
       "\n",
       "    .dataframe thead th {\n",
       "        text-align: right;\n",
       "    }\n",
       "</style>\n",
       "<table border=\"1\" class=\"dataframe\">\n",
       "  <thead>\n",
       "    <tr style=\"text-align: right;\">\n",
       "      <th></th>\n",
       "      <th>slug</th>\n",
       "      <th>set</th>\n",
       "      <th>kind</th>\n",
       "      <th>external_i</th>\n",
       "      <th>name</th>\n",
       "      <th>display_na</th>\n",
       "      <th>name_1</th>\n",
       "      <th>url</th>\n",
       "      <th>number</th>\n",
       "      <th>phone_numb</th>\n",
       "      <th>address</th>\n",
       "      <th>square_mil</th>\n",
       "      <th>geometry</th>\n",
       "    </tr>\n",
       "  </thead>\n",
       "  <tbody>\n",
       "    <tr>\n",
       "      <th>0</th>\n",
       "      <td>77th-street-lapd-division</td>\n",
       "      <td>LAPD Divisions</td>\n",
       "      <td>LAPD Division</td>\n",
       "      <td>12</td>\n",
       "      <td>77th Street</td>\n",
       "      <td>77th Street LAPD Division</td>\n",
       "      <td>None</td>\n",
       "      <td>http://www.lapdonline.org/77th_street_communit...</td>\n",
       "      <td>12</td>\n",
       "      <td>213-485-4164</td>\n",
       "      <td>7600 S. Broadway</td>\n",
       "      <td>11.3334694611</td>\n",
       "      <td>POLYGON ((-118.31489 34.00372, -118.28106 34.0...</td>\n",
       "    </tr>\n",
       "    <tr>\n",
       "      <th>1</th>\n",
       "      <td>central-lapd-division</td>\n",
       "      <td>LAPD Divisions</td>\n",
       "      <td>LAPD Division</td>\n",
       "      <td>1</td>\n",
       "      <td>Central</td>\n",
       "      <td>Central LAPD Division</td>\n",
       "      <td>None</td>\n",
       "      <td>http://www.lapdonline.org/central_community_po...</td>\n",
       "      <td>1</td>\n",
       "      <td>213-485-3294</td>\n",
       "      <td>251 E. 6th St.</td>\n",
       "      <td>4.9051505769</td>\n",
       "      <td>POLYGON ((-118.22438 34.06851, -118.22447 34.0...</td>\n",
       "    </tr>\n",
       "    <tr>\n",
       "      <th>2</th>\n",
       "      <td>devonshire-lapd-division</td>\n",
       "      <td>LAPD Divisions</td>\n",
       "      <td>LAPD Division</td>\n",
       "      <td>17</td>\n",
       "      <td>Devonshire</td>\n",
       "      <td>Devonshire LAPD Division</td>\n",
       "      <td>None</td>\n",
       "      <td>http://www.lapdonline.org/devonshire_community...</td>\n",
       "      <td>17</td>\n",
       "      <td>818-832-0633</td>\n",
       "      <td>10250 Etiwanda Ave.</td>\n",
       "      <td>48.310389692</td>\n",
       "      <td>POLYGON ((-118.48964 34.31514, -118.48637 34.3...</td>\n",
       "    </tr>\n",
       "    <tr>\n",
       "      <th>3</th>\n",
       "      <td>foothill-lapd-division</td>\n",
       "      <td>LAPD Divisions</td>\n",
       "      <td>LAPD Division</td>\n",
       "      <td>16</td>\n",
       "      <td>Foothill</td>\n",
       "      <td>Foothill LAPD Division</td>\n",
       "      <td>None</td>\n",
       "      <td>http://www.lapdonline.org/foothill_community_p...</td>\n",
       "      <td>16</td>\n",
       "      <td>818-756-8861</td>\n",
       "      <td>12760 Osborne St.</td>\n",
       "      <td>46.5372672192</td>\n",
       "      <td>POLYGON ((-118.38291 34.29425, -118.38294 34.2...</td>\n",
       "    </tr>\n",
       "    <tr>\n",
       "      <th>4</th>\n",
       "      <td>harbor-lapd-division</td>\n",
       "      <td>LAPD Divisions</td>\n",
       "      <td>LAPD Division</td>\n",
       "      <td>5</td>\n",
       "      <td>Harbor</td>\n",
       "      <td>Harbor LAPD Division</td>\n",
       "      <td>None</td>\n",
       "      <td>http://www.lapdonline.org/harbor_community_pol...</td>\n",
       "      <td>5</td>\n",
       "      <td>310-726-7700</td>\n",
       "      <td>2175 John S. Gibson Blvd.</td>\n",
       "      <td>32.0275914881</td>\n",
       "      <td>POLYGON ((-118.28151 33.86635, -118.28147 33.8...</td>\n",
       "    </tr>\n",
       "    <tr>\n",
       "      <th>5</th>\n",
       "      <td>hollenbeck-lapd-division</td>\n",
       "      <td>LAPD Divisions</td>\n",
       "      <td>LAPD Division</td>\n",
       "      <td>4</td>\n",
       "      <td>Hollenbeck</td>\n",
       "      <td>Hollenbeck LAPD Division</td>\n",
       "      <td>None</td>\n",
       "      <td>http://www.lapdonline.org/hollenbeck_community...</td>\n",
       "      <td>4</td>\n",
       "      <td>323-342-4100</td>\n",
       "      <td>2111 E. 1st St.</td>\n",
       "      <td>15.5398083185</td>\n",
       "      <td>POLYGON ((-118.17665 34.11223, -118.17686 34.1...</td>\n",
       "    </tr>\n",
       "    <tr>\n",
       "      <th>6</th>\n",
       "      <td>hollywood-lapd-division</td>\n",
       "      <td>LAPD Divisions</td>\n",
       "      <td>LAPD Division</td>\n",
       "      <td>6</td>\n",
       "      <td>Hollywood</td>\n",
       "      <td>Hollywood LAPD Division</td>\n",
       "      <td>None</td>\n",
       "      <td>http://www.lapdonline.org/hollywood_community_...</td>\n",
       "      <td>6</td>\n",
       "      <td>213-972-2971</td>\n",
       "      <td>1358 N. Wilcox Ave.</td>\n",
       "      <td>13.3377561414</td>\n",
       "      <td>POLYGON ((-118.30918 34.12739, -118.30918 34.1...</td>\n",
       "    </tr>\n",
       "    <tr>\n",
       "      <th>7</th>\n",
       "      <td>mission-lapd-division</td>\n",
       "      <td>LAPD Divisions</td>\n",
       "      <td>LAPD Division</td>\n",
       "      <td>19</td>\n",
       "      <td>Mission</td>\n",
       "      <td>Mission LAPD Division</td>\n",
       "      <td>None</td>\n",
       "      <td>http://www.lapdonline.org/mission_community_po...</td>\n",
       "      <td>19</td>\n",
       "      <td>818-838-9800</td>\n",
       "      <td>11121 N. Sepulveda Blvd.</td>\n",
       "      <td>25.0940732236</td>\n",
       "      <td>POLYGON ((-118.41999 34.32916, -118.41947 34.3...</td>\n",
       "    </tr>\n",
       "    <tr>\n",
       "      <th>8</th>\n",
       "      <td>newton-lapd-division</td>\n",
       "      <td>LAPD Divisions</td>\n",
       "      <td>LAPD Division</td>\n",
       "      <td>13</td>\n",
       "      <td>Newton</td>\n",
       "      <td>Newton LAPD Division</td>\n",
       "      <td>None</td>\n",
       "      <td>http://www.lapdonline.org/newton_community_pol...</td>\n",
       "      <td>13</td>\n",
       "      <td>323-846-6547</td>\n",
       "      <td>3400 S. Central Ave.</td>\n",
       "      <td>9.7701450586</td>\n",
       "      <td>POLYGON ((-118.24228 34.03754, -118.23858 34.0...</td>\n",
       "    </tr>\n",
       "    <tr>\n",
       "      <th>9</th>\n",
       "      <td>northeast-lapd-division</td>\n",
       "      <td>LAPD Divisions</td>\n",
       "      <td>LAPD Division</td>\n",
       "      <td>11</td>\n",
       "      <td>Northeast</td>\n",
       "      <td>Northeast LAPD Division</td>\n",
       "      <td>None</td>\n",
       "      <td>http://www.lapdonline.org/northeast_community_...</td>\n",
       "      <td>11</td>\n",
       "      <td>213-485-2563</td>\n",
       "      <td>3353 San Fernando Rd.</td>\n",
       "      <td>29.2578766522</td>\n",
       "      <td>POLYGON ((-118.30135 34.15817, -118.29880 34.1...</td>\n",
       "    </tr>\n",
       "    <tr>\n",
       "      <th>10</th>\n",
       "      <td>north-hollywood-lapd-division</td>\n",
       "      <td>LAPD Divisions</td>\n",
       "      <td>LAPD Division</td>\n",
       "      <td>15</td>\n",
       "      <td>North Hollywood</td>\n",
       "      <td>North Hollywood LAPD Division</td>\n",
       "      <td>None</td>\n",
       "      <td>http://www.lapdonline.org/north_hollywood_comm...</td>\n",
       "      <td>15</td>\n",
       "      <td>818-623-4016</td>\n",
       "      <td>11640 Burbank Blvd.</td>\n",
       "      <td>22.7631807081</td>\n",
       "      <td>POLYGON ((-118.41298 34.21987, -118.40964 34.2...</td>\n",
       "    </tr>\n",
       "    <tr>\n",
       "      <th>11</th>\n",
       "      <td>olympic-lapd-division</td>\n",
       "      <td>LAPD Divisions</td>\n",
       "      <td>LAPD Division</td>\n",
       "      <td>20</td>\n",
       "      <td>Olympic</td>\n",
       "      <td>Olympic LAPD Division</td>\n",
       "      <td>None</td>\n",
       "      <td>http://www.lapdonline.org/olympic_community_po...</td>\n",
       "      <td>20</td>\n",
       "      <td>213-382-9102</td>\n",
       "      <td>1130 S. Vermont Ave.</td>\n",
       "      <td>6.25640193166</td>\n",
       "      <td>POLYGON ((-118.30045 34.08357, -118.30040 34.0...</td>\n",
       "    </tr>\n",
       "    <tr>\n",
       "      <th>12</th>\n",
       "      <td>pacific-lapd-division</td>\n",
       "      <td>LAPD Divisions</td>\n",
       "      <td>LAPD Division</td>\n",
       "      <td>14</td>\n",
       "      <td>Pacific</td>\n",
       "      <td>Pacific LAPD Division</td>\n",
       "      <td>None</td>\n",
       "      <td>http://www.lapdonline.org/pacific_community_po...</td>\n",
       "      <td>14</td>\n",
       "      <td>310-482-6334</td>\n",
       "      <td>12312 Culver Blvd.</td>\n",
       "      <td>25.7408190448</td>\n",
       "      <td>POLYGON ((-118.39711 34.02914, -118.39555 34.0...</td>\n",
       "    </tr>\n",
       "    <tr>\n",
       "      <th>13</th>\n",
       "      <td>rampart-lapd-division</td>\n",
       "      <td>LAPD Divisions</td>\n",
       "      <td>LAPD Division</td>\n",
       "      <td>2</td>\n",
       "      <td>Rampart</td>\n",
       "      <td>Rampart LAPD Division</td>\n",
       "      <td>None</td>\n",
       "      <td>http://www.lapdonline.org/rampart_community_po...</td>\n",
       "      <td>2</td>\n",
       "      <td>213-484-3400</td>\n",
       "      <td>1401 W. 6th St.</td>\n",
       "      <td>5.53817251537</td>\n",
       "      <td>POLYGON ((-118.27877 34.09094, -118.27760 34.0...</td>\n",
       "    </tr>\n",
       "    <tr>\n",
       "      <th>14</th>\n",
       "      <td>southeast-lapd-division</td>\n",
       "      <td>LAPD Divisions</td>\n",
       "      <td>LAPD Division</td>\n",
       "      <td>18</td>\n",
       "      <td>Southeast</td>\n",
       "      <td>Southeast LAPD Division</td>\n",
       "      <td>None</td>\n",
       "      <td>http://www.lapdonline.org/southeast_community_...</td>\n",
       "      <td>18</td>\n",
       "      <td>213-972-7828</td>\n",
       "      <td>145 W. 108th St.</td>\n",
       "      <td>9.30182146732</td>\n",
       "      <td>POLYGON ((-118.25590 33.96017, -118.25593 33.9...</td>\n",
       "    </tr>\n",
       "    <tr>\n",
       "      <th>15</th>\n",
       "      <td>southwest-lapd-division</td>\n",
       "      <td>LAPD Divisions</td>\n",
       "      <td>LAPD Division</td>\n",
       "      <td>3</td>\n",
       "      <td>Southwest</td>\n",
       "      <td>Southwest LAPD Division</td>\n",
       "      <td>None</td>\n",
       "      <td>http://www.lapdonline.org/southwest_community_...</td>\n",
       "      <td>3</td>\n",
       "      <td>213-485-2582</td>\n",
       "      <td>1546 Martin Luther King Blvd.</td>\n",
       "      <td>12.3151064821</td>\n",
       "      <td>POLYGON ((-118.27406 34.03752, -118.27458 34.0...</td>\n",
       "    </tr>\n",
       "    <tr>\n",
       "      <th>16</th>\n",
       "      <td>topanga-lapd-division</td>\n",
       "      <td>LAPD Divisions</td>\n",
       "      <td>LAPD Division</td>\n",
       "      <td>21</td>\n",
       "      <td>Topanga</td>\n",
       "      <td>Topanga LAPD Division</td>\n",
       "      <td>None</td>\n",
       "      <td>http://www.lapdonline.org/topanga_community_po...</td>\n",
       "      <td>21</td>\n",
       "      <td>818-756-4800</td>\n",
       "      <td>21501 Schoenborn St.</td>\n",
       "      <td>32.6118637076</td>\n",
       "      <td>POLYGON ((-118.61914 34.24269, -118.60646 34.2...</td>\n",
       "    </tr>\n",
       "    <tr>\n",
       "      <th>17</th>\n",
       "      <td>van-nuys-lapd-division</td>\n",
       "      <td>LAPD Divisions</td>\n",
       "      <td>LAPD Division</td>\n",
       "      <td>9</td>\n",
       "      <td>Van Nuys</td>\n",
       "      <td>Van Nuys LAPD Division</td>\n",
       "      <td>None</td>\n",
       "      <td>http://www.lapdonline.org/van_nuys_community_p...</td>\n",
       "      <td>9</td>\n",
       "      <td>818-374-9500</td>\n",
       "      <td>6240 Sylmar Ave.</td>\n",
       "      <td>17.5653907936</td>\n",
       "      <td>POLYGON ((-118.41725 34.18668, -118.41374 34.1...</td>\n",
       "    </tr>\n",
       "    <tr>\n",
       "      <th>18</th>\n",
       "      <td>west-los-angeles-lapd-division</td>\n",
       "      <td>LAPD Divisions</td>\n",
       "      <td>LAPD Division</td>\n",
       "      <td>8</td>\n",
       "      <td>West Los Angeles</td>\n",
       "      <td>West Los Angeles LAPD Division</td>\n",
       "      <td>None</td>\n",
       "      <td>http://www.lapdonline.org/west_la_community_po...</td>\n",
       "      <td>8</td>\n",
       "      <td>310-444-0701</td>\n",
       "      <td>1663 Butler Ave.</td>\n",
       "      <td>64.6973493488</td>\n",
       "      <td>POLYGON ((-118.45316 34.13205, -118.45126 34.1...</td>\n",
       "    </tr>\n",
       "    <tr>\n",
       "      <th>19</th>\n",
       "      <td>west-valley-lapd-division</td>\n",
       "      <td>LAPD Divisions</td>\n",
       "      <td>LAPD Division</td>\n",
       "      <td>10</td>\n",
       "      <td>West Valley</td>\n",
       "      <td>West Valley LAPD Division</td>\n",
       "      <td>None</td>\n",
       "      <td>http://www.lapdonline.org/west_valley_communit...</td>\n",
       "      <td>10</td>\n",
       "      <td>818-374-7611</td>\n",
       "      <td>19020 Vanowen St.</td>\n",
       "      <td>33.5889339404</td>\n",
       "      <td>POLYGON ((-118.49586 34.22097, -118.49430 34.2...</td>\n",
       "    </tr>\n",
       "    <tr>\n",
       "      <th>20</th>\n",
       "      <td>wilshire-lapd-division</td>\n",
       "      <td>LAPD Divisions</td>\n",
       "      <td>LAPD Division</td>\n",
       "      <td>7</td>\n",
       "      <td>Wilshire</td>\n",
       "      <td>Wilshire LAPD Division</td>\n",
       "      <td>None</td>\n",
       "      <td>http://www.lapdonline.org/wilshire_community_p...</td>\n",
       "      <td>7</td>\n",
       "      <td>213-473-0476</td>\n",
       "      <td>4861 Venice Blvd.</td>\n",
       "      <td>11.7319170504</td>\n",
       "      <td>POLYGON ((-118.37249 34.08698, -118.37249 34.0...</td>\n",
       "    </tr>\n",
       "  </tbody>\n",
       "</table>\n",
       "</div>"
      ],
      "text/plain": [
       "                              slug             set           kind external_i  \\\n",
       "0        77th-street-lapd-division  LAPD Divisions  LAPD Division         12   \n",
       "1            central-lapd-division  LAPD Divisions  LAPD Division          1   \n",
       "2         devonshire-lapd-division  LAPD Divisions  LAPD Division         17   \n",
       "3           foothill-lapd-division  LAPD Divisions  LAPD Division         16   \n",
       "4             harbor-lapd-division  LAPD Divisions  LAPD Division          5   \n",
       "5         hollenbeck-lapd-division  LAPD Divisions  LAPD Division          4   \n",
       "6          hollywood-lapd-division  LAPD Divisions  LAPD Division          6   \n",
       "7            mission-lapd-division  LAPD Divisions  LAPD Division         19   \n",
       "8             newton-lapd-division  LAPD Divisions  LAPD Division         13   \n",
       "9          northeast-lapd-division  LAPD Divisions  LAPD Division         11   \n",
       "10   north-hollywood-lapd-division  LAPD Divisions  LAPD Division         15   \n",
       "11           olympic-lapd-division  LAPD Divisions  LAPD Division         20   \n",
       "12           pacific-lapd-division  LAPD Divisions  LAPD Division         14   \n",
       "13           rampart-lapd-division  LAPD Divisions  LAPD Division          2   \n",
       "14         southeast-lapd-division  LAPD Divisions  LAPD Division         18   \n",
       "15         southwest-lapd-division  LAPD Divisions  LAPD Division          3   \n",
       "16           topanga-lapd-division  LAPD Divisions  LAPD Division         21   \n",
       "17          van-nuys-lapd-division  LAPD Divisions  LAPD Division          9   \n",
       "18  west-los-angeles-lapd-division  LAPD Divisions  LAPD Division          8   \n",
       "19       west-valley-lapd-division  LAPD Divisions  LAPD Division         10   \n",
       "20          wilshire-lapd-division  LAPD Divisions  LAPD Division          7   \n",
       "\n",
       "                name                      display_na name_1  \\\n",
       "0        77th Street       77th Street LAPD Division   None   \n",
       "1            Central           Central LAPD Division   None   \n",
       "2         Devonshire        Devonshire LAPD Division   None   \n",
       "3           Foothill          Foothill LAPD Division   None   \n",
       "4             Harbor            Harbor LAPD Division   None   \n",
       "5         Hollenbeck        Hollenbeck LAPD Division   None   \n",
       "6          Hollywood         Hollywood LAPD Division   None   \n",
       "7            Mission           Mission LAPD Division   None   \n",
       "8             Newton            Newton LAPD Division   None   \n",
       "9          Northeast         Northeast LAPD Division   None   \n",
       "10   North Hollywood   North Hollywood LAPD Division   None   \n",
       "11           Olympic           Olympic LAPD Division   None   \n",
       "12           Pacific           Pacific LAPD Division   None   \n",
       "13           Rampart           Rampart LAPD Division   None   \n",
       "14         Southeast         Southeast LAPD Division   None   \n",
       "15         Southwest         Southwest LAPD Division   None   \n",
       "16           Topanga           Topanga LAPD Division   None   \n",
       "17          Van Nuys          Van Nuys LAPD Division   None   \n",
       "18  West Los Angeles  West Los Angeles LAPD Division   None   \n",
       "19       West Valley       West Valley LAPD Division   None   \n",
       "20          Wilshire          Wilshire LAPD Division   None   \n",
       "\n",
       "                                                  url number    phone_numb  \\\n",
       "0   http://www.lapdonline.org/77th_street_communit...     12  213-485-4164   \n",
       "1   http://www.lapdonline.org/central_community_po...      1  213-485-3294   \n",
       "2   http://www.lapdonline.org/devonshire_community...     17  818-832-0633   \n",
       "3   http://www.lapdonline.org/foothill_community_p...     16  818-756-8861   \n",
       "4   http://www.lapdonline.org/harbor_community_pol...      5  310-726-7700   \n",
       "5   http://www.lapdonline.org/hollenbeck_community...      4  323-342-4100   \n",
       "6   http://www.lapdonline.org/hollywood_community_...      6  213-972-2971   \n",
       "7   http://www.lapdonline.org/mission_community_po...     19  818-838-9800   \n",
       "8   http://www.lapdonline.org/newton_community_pol...     13  323-846-6547   \n",
       "9   http://www.lapdonline.org/northeast_community_...     11  213-485-2563   \n",
       "10  http://www.lapdonline.org/north_hollywood_comm...     15  818-623-4016   \n",
       "11  http://www.lapdonline.org/olympic_community_po...     20  213-382-9102   \n",
       "12  http://www.lapdonline.org/pacific_community_po...     14  310-482-6334   \n",
       "13  http://www.lapdonline.org/rampart_community_po...      2  213-484-3400   \n",
       "14  http://www.lapdonline.org/southeast_community_...     18  213-972-7828   \n",
       "15  http://www.lapdonline.org/southwest_community_...      3  213-485-2582   \n",
       "16  http://www.lapdonline.org/topanga_community_po...     21  818-756-4800   \n",
       "17  http://www.lapdonline.org/van_nuys_community_p...      9  818-374-9500   \n",
       "18  http://www.lapdonline.org/west_la_community_po...      8  310-444-0701   \n",
       "19  http://www.lapdonline.org/west_valley_communit...     10  818-374-7611   \n",
       "20  http://www.lapdonline.org/wilshire_community_p...      7  213-473-0476   \n",
       "\n",
       "                          address     square_mil  \\\n",
       "0                7600 S. Broadway  11.3334694611   \n",
       "1                  251 E. 6th St.   4.9051505769   \n",
       "2             10250 Etiwanda Ave.   48.310389692   \n",
       "3               12760 Osborne St.  46.5372672192   \n",
       "4       2175 John S. Gibson Blvd.  32.0275914881   \n",
       "5                 2111 E. 1st St.  15.5398083185   \n",
       "6             1358 N. Wilcox Ave.  13.3377561414   \n",
       "7        11121 N. Sepulveda Blvd.  25.0940732236   \n",
       "8            3400 S. Central Ave.   9.7701450586   \n",
       "9           3353 San Fernando Rd.  29.2578766522   \n",
       "10            11640 Burbank Blvd.  22.7631807081   \n",
       "11           1130 S. Vermont Ave.  6.25640193166   \n",
       "12             12312 Culver Blvd.  25.7408190448   \n",
       "13                1401 W. 6th St.  5.53817251537   \n",
       "14               145 W. 108th St.  9.30182146732   \n",
       "15  1546 Martin Luther King Blvd.  12.3151064821   \n",
       "16           21501 Schoenborn St.  32.6118637076   \n",
       "17               6240 Sylmar Ave.  17.5653907936   \n",
       "18               1663 Butler Ave.  64.6973493488   \n",
       "19              19020 Vanowen St.  33.5889339404   \n",
       "20              4861 Venice Blvd.  11.7319170504   \n",
       "\n",
       "                                             geometry  \n",
       "0   POLYGON ((-118.31489 34.00372, -118.28106 34.0...  \n",
       "1   POLYGON ((-118.22438 34.06851, -118.22447 34.0...  \n",
       "2   POLYGON ((-118.48964 34.31514, -118.48637 34.3...  \n",
       "3   POLYGON ((-118.38291 34.29425, -118.38294 34.2...  \n",
       "4   POLYGON ((-118.28151 33.86635, -118.28147 33.8...  \n",
       "5   POLYGON ((-118.17665 34.11223, -118.17686 34.1...  \n",
       "6   POLYGON ((-118.30918 34.12739, -118.30918 34.1...  \n",
       "7   POLYGON ((-118.41999 34.32916, -118.41947 34.3...  \n",
       "8   POLYGON ((-118.24228 34.03754, -118.23858 34.0...  \n",
       "9   POLYGON ((-118.30135 34.15817, -118.29880 34.1...  \n",
       "10  POLYGON ((-118.41298 34.21987, -118.40964 34.2...  \n",
       "11  POLYGON ((-118.30045 34.08357, -118.30040 34.0...  \n",
       "12  POLYGON ((-118.39711 34.02914, -118.39555 34.0...  \n",
       "13  POLYGON ((-118.27877 34.09094, -118.27760 34.0...  \n",
       "14  POLYGON ((-118.25590 33.96017, -118.25593 33.9...  \n",
       "15  POLYGON ((-118.27406 34.03752, -118.27458 34.0...  \n",
       "16  POLYGON ((-118.61914 34.24269, -118.60646 34.2...  \n",
       "17  POLYGON ((-118.41725 34.18668, -118.41374 34.1...  \n",
       "18  POLYGON ((-118.45316 34.13205, -118.45126 34.1...  \n",
       "19  POLYGON ((-118.49586 34.22097, -118.49430 34.2...  \n",
       "20  POLYGON ((-118.37249 34.08698, -118.37249 34.0...  "
      ]
     },
     "execution_count": 18,
     "metadata": {},
     "output_type": "execute_result"
    }
   ],
   "source": [
    "LAPD.query(\"kind == 'LAPD Division'\")"
   ]
  },
  {
   "cell_type": "markdown",
   "metadata": {},
   "source": [
    "Since all 20 observations contain the words \"LAPD Division\" in the \"kind\" column, all 20 variables showed up when I ran this query."
   ]
  },
  {
   "cell_type": "code",
   "execution_count": null,
   "metadata": {},
   "outputs": [],
   "source": []
  }
 ],
 "metadata": {
  "kernelspec": {
   "display_name": "Python 3",
   "language": "python",
   "name": "python3"
  },
  "language_info": {
   "codemirror_mode": {
    "name": "ipython",
    "version": 3
   },
   "file_extension": ".py",
   "mimetype": "text/x-python",
   "name": "python",
   "nbconvert_exporter": "python",
   "pygments_lexer": "ipython3",
   "version": "3.8.5"
  },
  "toc": {
   "base_numbering": 1,
   "nav_menu": {},
   "number_sections": true,
   "sideBar": true,
   "skip_h1_title": false,
   "title_cell": "Table of Contents",
   "title_sidebar": "Contents",
   "toc_cell": false,
   "toc_position": {},
   "toc_section_display": true,
   "toc_window_display": false
  }
 },
 "nbformat": 4,
 "nbformat_minor": 4
}
